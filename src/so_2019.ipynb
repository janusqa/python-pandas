{
 "cells": [
  {
   "cell_type": "code",
   "execution_count": 3,
   "id": "cb948981",
   "metadata": {},
   "outputs": [],
   "source": [
    "from pathlib import Path\n",
    "\n",
    "import pandas as pd\n",
    "\n",
    "# For notebook, use:\n",
    "ROOT_DIR = Path.cwd().parent"
   ]
  },
  {
   "cell_type": "code",
   "execution_count": 4,
   "id": "4e754dc7",
   "metadata": {},
   "outputs": [],
   "source": [
    "pd.set_option(\"display.max_columns\", 85)\n",
    "pd.set_option(\"display.max_rows\", 85)"
   ]
  },
  {
   "cell_type": "markdown",
   "id": "075aa807",
   "metadata": {},
   "source": [
    "### DATAFRAMES AND SERIES"
   ]
  },
  {
   "cell_type": "code",
   "execution_count": 5,
   "id": "b0b141bc",
   "metadata": {},
   "outputs": [],
   "source": [
    "# Load your CSV\n",
    "df = pd.read_csv(ROOT_DIR / \"data\" / \"stackoverflow_survey\" / \"2019\" / \"survey_results_public.csv\")\n",
    "schema_df = pd.read_csv(ROOT_DIR / \"data\" / \"stackoverflow_survey\" / \"2019\" / \"survey_results_schema.csv\")"
   ]
  },
  {
   "cell_type": "code",
   "execution_count": null,
   "id": "4343fcc1",
   "metadata": {},
   "outputs": [],
   "source": [
    "# head takes an int to say how many rows to display.\n",
    "df.head() # first 5"
   ]
  },
  {
   "cell_type": "code",
   "execution_count": null,
   "id": "8faf7ab5",
   "metadata": {},
   "outputs": [],
   "source": [
    "df.tail() # last 5"
   ]
  },
  {
   "cell_type": "code",
   "execution_count": null,
   "id": "b2dfe830",
   "metadata": {},
   "outputs": [],
   "source": [
    "# display how many rows and columns make up the data\n",
    "df.shape"
   ]
  },
  {
   "cell_type": "code",
   "execution_count": null,
   "id": "b1c8466f",
   "metadata": {},
   "outputs": [],
   "source": [
    "# displays number of rows and columns in data, and additionally datatypes of the columns\n",
    "df.info()"
   ]
  },
  {
   "cell_type": "code",
   "execution_count": null,
   "id": "f48c02a6",
   "metadata": {},
   "outputs": [],
   "source": [
    "# show the column names\n",
    "df.columns"
   ]
  },
  {
   "cell_type": "code",
   "execution_count": null,
   "id": "26ccb301",
   "metadata": {},
   "outputs": [],
   "source": [
    "schema_df"
   ]
  },
  {
   "cell_type": "code",
   "execution_count": null,
   "id": "d48837aa",
   "metadata": {},
   "outputs": [],
   "source": [
    "# get column\n",
    "df[\"Hobbyist\"]"
   ]
  },
  {
   "cell_type": "code",
   "execution_count": null,
   "id": "b05a79ce",
   "metadata": {},
   "outputs": [],
   "source": [
    "# get multiple columns\n",
    "df[[\"Hobbyist\", \"MainBranch\"]]"
   ]
  },
  {
   "cell_type": "code",
   "execution_count": null,
   "id": "c8ed3a7e",
   "metadata": {},
   "outputs": [],
   "source": [
    "# get first row\n",
    "df.iloc[0]"
   ]
  },
  {
   "cell_type": "code",
   "execution_count": null,
   "id": "ea3fa240",
   "metadata": {},
   "outputs": [],
   "source": [
    "# get multiple rows\n",
    "df.iloc[[0,1]]"
   ]
  },
  {
   "cell_type": "code",
   "execution_count": null,
   "id": "a16b8dea",
   "metadata": {},
   "outputs": [],
   "source": [
    "# get first row but based on a lable.  By default if no lables are set they default to numeric range\n",
    "df.loc[0]"
   ]
  },
  {
   "cell_type": "code",
   "execution_count": null,
   "id": "58035fd9",
   "metadata": {},
   "outputs": [],
   "source": [
    "# get multiple rows\n",
    "df.loc[[0,1]]"
   ]
  },
  {
   "cell_type": "code",
   "execution_count": null,
   "id": "78be8c0c",
   "metadata": {},
   "outputs": [],
   "source": [
    "# select row 1 and 2, but only display column 4\n",
    "df.iloc[[0,1],3]"
   ]
  },
  {
   "cell_type": "code",
   "execution_count": null,
   "id": "14f0316b",
   "metadata": {},
   "outputs": [],
   "source": [
    "# using loc now, so for colums need to use proper label for it and not an int\n",
    "df.loc[[0,1], [\"OpenSourcer\",\"OpenSource\"]]"
   ]
  },
  {
   "cell_type": "code",
   "execution_count": null,
   "id": "3bf2ee04",
   "metadata": {},
   "outputs": [],
   "source": [
    "df[\"Hobbyist\"]"
   ]
  },
  {
   "cell_type": "code",
   "execution_count": null,
   "id": "0737aa3b",
   "metadata": {},
   "outputs": [],
   "source": [
    "df.loc[0, \"Hobbyist\"]"
   ]
  },
  {
   "cell_type": "code",
   "execution_count": null,
   "id": "992b341c",
   "metadata": {},
   "outputs": [],
   "source": [
    "# get first 3 responses for hobbiyst column\n",
    "df.loc[[0,1,2],\"Hobbyist\"]"
   ]
  },
  {
   "cell_type": "code",
   "execution_count": null,
   "id": "eb95ab33",
   "metadata": {},
   "outputs": [],
   "source": [
    "# slicing\n",
    "# NOTE when slicing the end range is INCLUSIVE\n",
    "# 0:2 means from 0 to 2 (and not to 1 as in normal ranges)\n",
    "# NOTE no brackets needed around slicing\n",
    "df.loc[0:2, \"Hobbyist\"]"
   ]
  },
  {
   "cell_type": "code",
   "execution_count": null,
   "id": "90fe0bb4",
   "metadata": {},
   "outputs": [],
   "source": [
    "# slicing on the columns\n",
    "df.loc[0:2, \"Hobbyist\":\"Employment\"]"
   ]
  },
  {
   "cell_type": "code",
   "execution_count": 6,
   "id": "dd532d67",
   "metadata": {},
   "outputs": [],
   "source": [
    "# convert a dict to a dataframe\n",
    "people = {\n",
    "    \"first\":[\"Corey\", \"Jane\", \"John\"],\n",
    "    \"last\": [\"Schafer\", \"Doe\", \"Doe\"],\n",
    "    \"email\": [\"CoreySchafer@email.com\",\"JaneDoe@email.com\",\"JohnDoe@email.com\"]\n",
    "}\n",
    "\n",
    "dict_df = pd.DataFrame(people)"
   ]
  },
  {
   "cell_type": "code",
   "execution_count": null,
   "id": "8ffc8c3e",
   "metadata": {},
   "outputs": [],
   "source": [
    "dict_df"
   ]
  },
  {
   "cell_type": "markdown",
   "id": "e6cce185",
   "metadata": {},
   "source": [
    "### INDEXING"
   ]
  },
  {
   "cell_type": "code",
   "execution_count": null,
   "id": "a0905faa",
   "metadata": {},
   "outputs": [],
   "source": [
    "# set the email column as index for this dataframe\n",
    "# this only sets the index temporiraly.\n",
    "# to set permanently\n",
    "dict_df.set_index(\"email\")"
   ]
  },
  {
   "cell_type": "code",
   "execution_count": null,
   "id": "86b21125",
   "metadata": {},
   "outputs": [],
   "source": [
    "dict_df.set_index(\"email\").index"
   ]
  },
  {
   "cell_type": "code",
   "execution_count": null,
   "id": "e534d778",
   "metadata": {},
   "outputs": [],
   "source": [
    "# now that we have selected an index we can use them instead of the numerical default indexes like 0,1,2 ect when using loc\n",
    "dict_df.set_index(\"email\").loc[\"JaneDoe@email.com\", \"first\"]"
   ]
  },
  {
   "cell_type": "code",
   "execution_count": 63,
   "id": "daa303d3",
   "metadata": {},
   "outputs": [],
   "source": [
    "#if you set and index and mistakinly mutate the dataframe using inplace you can reset the index\n",
    "dict_df.reset_index(inplace=True)"
   ]
  },
  {
   "cell_type": "code",
   "execution_count": null,
   "id": "1c74f1aa",
   "metadata": {},
   "outputs": [],
   "source": [
    "df.columns"
   ]
  },
  {
   "cell_type": "code",
   "execution_count": 51,
   "id": "246628ee",
   "metadata": {},
   "outputs": [],
   "source": [
    "# index can also be set while creating the dataframe\n",
    "indexed_df = pd.read_csv(ROOT_DIR / \"data\" / \"stackoverflow_survey\" / \"2019\" / \"survey_results_public.csv\", index_col=\"Respondent\")\n",
    "indexed_schema_df = pd.read_csv(ROOT_DIR / \"data\" / \"stackoverflow_survey\" / \"2019\" / \"survey_results_schema.csv\", index_col=\"Column\")"
   ]
  },
  {
   "cell_type": "code",
   "execution_count": null,
   "id": "b9d168fe",
   "metadata": {},
   "outputs": [],
   "source": [
    "indexed_df.head()"
   ]
  },
  {
   "cell_type": "code",
   "execution_count": null,
   "id": "0c390790",
   "metadata": {},
   "outputs": [],
   "source": [
    "indexed_df.loc[1]"
   ]
  },
  {
   "cell_type": "code",
   "execution_count": null,
   "id": "d64b1ef4",
   "metadata": {},
   "outputs": [],
   "source": [
    "indexed_schema_df"
   ]
  },
  {
   "cell_type": "code",
   "execution_count": null,
   "id": "70f00419",
   "metadata": {},
   "outputs": [],
   "source": [
    "indexed_schema_df.loc[\"Hobbyist\"]"
   ]
  },
  {
   "cell_type": "code",
   "execution_count": null,
   "id": "e3995c7f",
   "metadata": {},
   "outputs": [],
   "source": [
    "indexed_schema_df.loc[\"MgrIdiot\", \"QuestionText\"]"
   ]
  },
  {
   "cell_type": "code",
   "execution_count": null,
   "id": "09920ccc",
   "metadata": {},
   "outputs": [],
   "source": [
    "# sort the index\n",
    "indexed_schema_df.sort_index(ascending=True)"
   ]
  },
  {
   "cell_type": "markdown",
   "id": "6102448d",
   "metadata": {},
   "source": [
    "### FILTERING"
   ]
  },
  {
   "cell_type": "code",
   "execution_count": null,
   "id": "a5e38334",
   "metadata": {},
   "outputs": [],
   "source": [
    "dict_df"
   ]
  },
  {
   "cell_type": "code",
   "execution_count": null,
   "id": "ff54cda4",
   "metadata": {},
   "outputs": [],
   "source": [
    "# filter mask. \n",
    "# This creates a seris of booleans we can pass to a dataframe df OR df.loc\n",
    "dict_df[\"last\"] == \"Doe\""
   ]
  },
  {
   "cell_type": "code",
   "execution_count": 29,
   "id": "526d286a",
   "metadata": {},
   "outputs": [],
   "source": [
    "filter_mask = (dict_df[\"last\"] == \"Doe\")"
   ]
  },
  {
   "cell_type": "code",
   "execution_count": null,
   "id": "659d787c",
   "metadata": {},
   "outputs": [],
   "source": [
    "#apply filter mask to dataframe to get back rows that match the filter\n",
    "dict_df[filter_mask]"
   ]
  },
  {
   "cell_type": "code",
   "execution_count": null,
   "id": "0403c72c",
   "metadata": {},
   "outputs": [],
   "source": [
    "# can also put the filter mask directly in the dataframe call.  This looks untidy\n",
    "dict_df[(dict_df[\"last\"]==\"Doe\")]"
   ]
  },
  {
   "cell_type": "code",
   "execution_count": null,
   "id": "0d217776",
   "metadata": {},
   "outputs": [],
   "source": [
    "# Filtering by .loc is also a way to achieve the same results.\n",
    "dict_df.loc[filter_mask]"
   ]
  },
  {
   "cell_type": "code",
   "execution_count": null,
   "id": "36ba181f",
   "metadata": {},
   "outputs": [],
   "source": [
    "# using .loc allows us to additionally select out the columns we need by passing a second argument as usual to .loc\n",
    "dict_df.loc[filter_mask, \"email\"]"
   ]
  },
  {
   "cell_type": "code",
   "execution_count": 36,
   "id": "27336b20",
   "metadata": {},
   "outputs": [],
   "source": [
    "# AND operator (&)\n",
    "filter_mask_2=((dict_df[\"last\"]==\"Doe\") & (dict_df[\"first\"] == \"John\"))"
   ]
  },
  {
   "cell_type": "code",
   "execution_count": 41,
   "id": "8bb1d047",
   "metadata": {},
   "outputs": [
    {
     "data": {
      "text/plain": [
       "2    JohnDoe@email.com\n",
       "Name: email, dtype: object"
      ]
     },
     "execution_count": 41,
     "metadata": {},
     "output_type": "execute_result"
    }
   ],
   "source": [
    "dict_df.loc[filter_mask_2, \"email\"]"
   ]
  },
  {
   "cell_type": "code",
   "execution_count": 43,
   "id": "1210d212",
   "metadata": {},
   "outputs": [],
   "source": [
    "# OR operator (|)\n",
    "filter_mask_3 = ((dict_df[\"last\"] == \"Schafer\") | (dict_df[\"first\"] == \"John\"))"
   ]
  },
  {
   "cell_type": "code",
   "execution_count": null,
   "id": "259b4900",
   "metadata": {},
   "outputs": [],
   "source": [
    "dict_df[filter_mask_3]"
   ]
  },
  {
   "cell_type": "code",
   "execution_count": null,
   "id": "3fe60bb0",
   "metadata": {},
   "outputs": [],
   "source": [
    "#NOT operator (~)\n",
    "filter_mask_4 = ~((dict_df[\"last\"] == \"Schafer\") | (dict_df[\"first\"] == \"John\"))"
   ]
  },
  {
   "cell_type": "code",
   "execution_count": null,
   "id": "8abc67d5",
   "metadata": {},
   "outputs": [],
   "source": [
    "dict_df[filter_mask_4]"
   ]
  },
  {
   "cell_type": "code",
   "execution_count": null,
   "id": "9f4e35df",
   "metadata": {},
   "outputs": [],
   "source": [
    "# Do negation in dataframe call as an alternative\n",
    "filter_mask_5 = ((dict_df[\"last\"] == \"Schafer\") | (dict_df[\"first\"] == \"John\"))\n",
    "dict_df[~filter_mask_5]"
   ]
  },
  {
   "cell_type": "code",
   "execution_count": 54,
   "id": "7624e718",
   "metadata": {},
   "outputs": [],
   "source": [
    "high_salary = (indexed_df[\"ConvertedComp\"] > 70000)"
   ]
  },
  {
   "cell_type": "code",
   "execution_count": null,
   "id": "471e6947",
   "metadata": {},
   "outputs": [],
   "source": [
    "indexed_df.loc[high_salary, [\"Country\", \"LanguageWorkedWith\",\"ConvertedComp\"]]"
   ]
  },
  {
   "cell_type": "code",
   "execution_count": 59,
   "id": "eab2622b",
   "metadata": {},
   "outputs": [],
   "source": [
    "# We now want to filter down this list to a few selected countries\n",
    "countries = [\"United States\", \"India\", \"United Kingdom\", \"Germany\", \"Canada\"]\n",
    "filter_mask_6 = indexed_df[\"Country\"].isin(countries)"
   ]
  },
  {
   "cell_type": "code",
   "execution_count": null,
   "id": "c767e49f",
   "metadata": {},
   "outputs": [],
   "source": [
    "indexed_df.loc[filter_mask_6, \"Country\"]"
   ]
  },
  {
   "cell_type": "code",
   "execution_count": 71,
   "id": "b41ad924",
   "metadata": {},
   "outputs": [],
   "source": [
    "filter_mask_7 = indexed_df[\"LanguageWorkedWith\"].str.contains(\"Python\", na=False)"
   ]
  },
  {
   "cell_type": "code",
   "execution_count": null,
   "id": "161dddf7",
   "metadata": {},
   "outputs": [],
   "source": [
    "indexed_df.loc[filter_mask_7,\"LanguageWorkedWith\"]"
   ]
  }
 ],
 "metadata": {
  "kernelspec": {
   "display_name": ".venv",
   "language": "python",
   "name": "python3"
  },
  "language_info": {
   "codemirror_mode": {
    "name": "ipython",
    "version": 3
   },
   "file_extension": ".py",
   "mimetype": "text/x-python",
   "name": "python",
   "nbconvert_exporter": "python",
   "pygments_lexer": "ipython3",
   "version": "3.10.12"
  }
 },
 "nbformat": 4,
 "nbformat_minor": 5
}
