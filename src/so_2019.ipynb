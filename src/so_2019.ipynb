{
 "cells": [
  {
   "cell_type": "code",
   "execution_count": 3,
   "id": "cb948981",
   "metadata": {},
   "outputs": [],
   "source": [
    "from pathlib import Path\n",
    "\n",
    "import pandas as pd\n",
    "\n",
    "# For notebook, use:\n",
    "ROOT_DIR = Path.cwd().parent"
   ]
  },
  {
   "cell_type": "code",
   "execution_count": 4,
   "id": "4e754dc7",
   "metadata": {},
   "outputs": [],
   "source": [
    "pd.set_option(\"display.max_columns\", 85)\n",
    "pd.set_option(\"display.max_rows\", 85)"
   ]
  },
  {
   "cell_type": "markdown",
   "id": "075aa807",
   "metadata": {},
   "source": [
    "### DATAFRAMES AND SERIES"
   ]
  },
  {
   "cell_type": "code",
   "execution_count": 5,
   "id": "b0b141bc",
   "metadata": {},
   "outputs": [],
   "source": [
    "# Load your CSV\n",
    "df = pd.read_csv(ROOT_DIR / \"data\" / \"stackoverflow_survey\" / \"2019\" / \"survey_results_public.csv\")\n",
    "schema_df = pd.read_csv(ROOT_DIR / \"data\" / \"stackoverflow_survey\" / \"2019\" / \"survey_results_schema.csv\")"
   ]
  },
  {
   "cell_type": "code",
   "execution_count": null,
   "id": "4343fcc1",
   "metadata": {},
   "outputs": [],
   "source": [
    "# head takes an int to say how many rows to display.\n",
    "df.head() # first 5"
   ]
  },
  {
   "cell_type": "code",
   "execution_count": null,
   "id": "8faf7ab5",
   "metadata": {},
   "outputs": [],
   "source": [
    "df.tail() # last 5"
   ]
  },
  {
   "cell_type": "code",
   "execution_count": null,
   "id": "b2dfe830",
   "metadata": {},
   "outputs": [],
   "source": [
    "# display how many rows and columns make up the data\n",
    "df.shape"
   ]
  },
  {
   "cell_type": "code",
   "execution_count": null,
   "id": "b1c8466f",
   "metadata": {},
   "outputs": [],
   "source": [
    "# displays number of rows and columns in data, and additionally datatypes of the columns\n",
    "df.info()"
   ]
  },
  {
   "cell_type": "code",
   "execution_count": null,
   "id": "f48c02a6",
   "metadata": {},
   "outputs": [],
   "source": [
    "# show the column names\n",
    "df.columns"
   ]
  },
  {
   "cell_type": "code",
   "execution_count": null,
   "id": "26ccb301",
   "metadata": {},
   "outputs": [],
   "source": [
    "schema_df"
   ]
  },
  {
   "cell_type": "code",
   "execution_count": null,
   "id": "d48837aa",
   "metadata": {},
   "outputs": [],
   "source": [
    "# get column\n",
    "df[\"Hobbyist\"]"
   ]
  },
  {
   "cell_type": "code",
   "execution_count": null,
   "id": "b05a79ce",
   "metadata": {},
   "outputs": [],
   "source": [
    "# get multiple columns\n",
    "df[[\"Hobbyist\", \"MainBranch\"]]"
   ]
  },
  {
   "cell_type": "code",
   "execution_count": null,
   "id": "c8ed3a7e",
   "metadata": {},
   "outputs": [],
   "source": [
    "# get first row\n",
    "df.iloc[0]"
   ]
  },
  {
   "cell_type": "code",
   "execution_count": null,
   "id": "ea3fa240",
   "metadata": {},
   "outputs": [],
   "source": [
    "# get multiple rows\n",
    "df.iloc[[0,1]]"
   ]
  },
  {
   "cell_type": "code",
   "execution_count": null,
   "id": "a16b8dea",
   "metadata": {},
   "outputs": [],
   "source": [
    "# get first row but based on a lable.  By default if no lables are set they default to numeric range\n",
    "df.loc[0]"
   ]
  },
  {
   "cell_type": "code",
   "execution_count": null,
   "id": "58035fd9",
   "metadata": {},
   "outputs": [],
   "source": [
    "# get multiple rows\n",
    "df.loc[[0,1]]"
   ]
  },
  {
   "cell_type": "code",
   "execution_count": null,
   "id": "78be8c0c",
   "metadata": {},
   "outputs": [],
   "source": [
    "# select row 1 and 2, but only display column 4\n",
    "df.iloc[[0,1],3]"
   ]
  },
  {
   "cell_type": "code",
   "execution_count": null,
   "id": "14f0316b",
   "metadata": {},
   "outputs": [],
   "source": [
    "# using loc now, so for colums need to use proper label for it and not an int\n",
    "df.loc[[0,1], [\"OpenSourcer\",\"OpenSource\"]]"
   ]
  },
  {
   "cell_type": "code",
   "execution_count": null,
   "id": "3bf2ee04",
   "metadata": {},
   "outputs": [],
   "source": [
    "df[\"Hobbyist\"]"
   ]
  },
  {
   "cell_type": "code",
   "execution_count": null,
   "id": "0737aa3b",
   "metadata": {},
   "outputs": [],
   "source": [
    "df.loc[0, \"Hobbyist\"]"
   ]
  },
  {
   "cell_type": "code",
   "execution_count": null,
   "id": "992b341c",
   "metadata": {},
   "outputs": [],
   "source": [
    "# get first 3 responses for hobbiyst column\n",
    "df.loc[[0,1,2],\"Hobbyist\"]"
   ]
  },
  {
   "cell_type": "code",
   "execution_count": null,
   "id": "eb95ab33",
   "metadata": {},
   "outputs": [],
   "source": [
    "# slicing\n",
    "# NOTE when slicing the end range is INCLUSIVE\n",
    "# 0:2 means from 0 to 2 (and not to 1 as in normal ranges)\n",
    "# NOTE no brackets needed around slicing\n",
    "df.loc[0:2, \"Hobbyist\"]"
   ]
  },
  {
   "cell_type": "code",
   "execution_count": null,
   "id": "90fe0bb4",
   "metadata": {},
   "outputs": [],
   "source": [
    "# slicing on the columns\n",
    "df.loc[0:2, \"Hobbyist\":\"Employment\"]"
   ]
  },
  {
   "cell_type": "code",
   "execution_count": 6,
   "id": "dd532d67",
   "metadata": {},
   "outputs": [],
   "source": [
    "# convert a dict to a dataframe\n",
    "people = {\n",
    "    \"first\":[\"Corey\", \"Jane\", \"John\"],\n",
    "    \"last\": [\"Schafer\", \"Doe\", \"Doe\"],\n",
    "    \"email\": [\"CoreySchafer@email.com\",\"JaneDoe@email.com\",\"JohnDoe@email.com\"]\n",
    "}\n",
    "\n",
    "dict_df = pd.DataFrame(people)"
   ]
  },
  {
   "cell_type": "code",
   "execution_count": null,
   "id": "8ffc8c3e",
   "metadata": {},
   "outputs": [],
   "source": [
    "dict_df"
   ]
  },
  {
   "cell_type": "markdown",
   "id": "e6cce185",
   "metadata": {},
   "source": [
    "### INDEXING"
   ]
  },
  {
   "cell_type": "code",
   "execution_count": null,
   "id": "a0905faa",
   "metadata": {},
   "outputs": [],
   "source": [
    "# set the email column as index for this dataframe\n",
    "# this only sets the index temporiraly.\n",
    "# to set permanently\n",
    "dict_df.set_index(\"email\")"
   ]
  },
  {
   "cell_type": "code",
   "execution_count": null,
   "id": "86b21125",
   "metadata": {},
   "outputs": [],
   "source": [
    "dict_df.set_index(\"email\").index"
   ]
  },
  {
   "cell_type": "code",
   "execution_count": null,
   "id": "e534d778",
   "metadata": {},
   "outputs": [],
   "source": [
    "# now that we have selected an index we can use them instead of the numerical default indexes like 0,1,2 ect when using loc\n",
    "dict_df.set_index(\"email\").loc[\"JaneDoe@email.com\", \"first\"]"
   ]
  },
  {
   "cell_type": "code",
   "execution_count": 63,
   "id": "daa303d3",
   "metadata": {},
   "outputs": [],
   "source": [
    "#if you set and index and mistakinly mutate the dataframe using inplace you can reset the index\n",
    "dict_df.reset_index(inplace=True)"
   ]
  },
  {
   "cell_type": "code",
   "execution_count": null,
   "id": "1c74f1aa",
   "metadata": {},
   "outputs": [],
   "source": [
    "df.columns"
   ]
  },
  {
   "cell_type": "code",
   "execution_count": 51,
   "id": "246628ee",
   "metadata": {},
   "outputs": [],
   "source": [
    "# index can also be set while creating the dataframe\n",
    "indexed_df = pd.read_csv(ROOT_DIR / \"data\" / \"stackoverflow_survey\" / \"2019\" / \"survey_results_public.csv\", index_col=\"Respondent\")\n",
    "indexed_schema_df = pd.read_csv(ROOT_DIR / \"data\" / \"stackoverflow_survey\" / \"2019\" / \"survey_results_schema.csv\", index_col=\"Column\")"
   ]
  },
  {
   "cell_type": "code",
   "execution_count": null,
   "id": "b9d168fe",
   "metadata": {},
   "outputs": [],
   "source": [
    "indexed_df.head()"
   ]
  },
  {
   "cell_type": "code",
   "execution_count": null,
   "id": "0c390790",
   "metadata": {},
   "outputs": [],
   "source": [
    "indexed_df.loc[1]"
   ]
  },
  {
   "cell_type": "code",
   "execution_count": null,
   "id": "d64b1ef4",
   "metadata": {},
   "outputs": [],
   "source": [
    "indexed_schema_df"
   ]
  },
  {
   "cell_type": "code",
   "execution_count": null,
   "id": "70f00419",
   "metadata": {},
   "outputs": [],
   "source": [
    "indexed_schema_df.loc[\"Hobbyist\"]"
   ]
  },
  {
   "cell_type": "code",
   "execution_count": null,
   "id": "e3995c7f",
   "metadata": {},
   "outputs": [],
   "source": [
    "indexed_schema_df.loc[\"MgrIdiot\", \"QuestionText\"]"
   ]
  },
  {
   "cell_type": "code",
   "execution_count": null,
   "id": "09920ccc",
   "metadata": {},
   "outputs": [],
   "source": [
    "# sort the index\n",
    "indexed_schema_df.sort_index(ascending=True)"
   ]
  },
  {
   "cell_type": "markdown",
   "id": "6102448d",
   "metadata": {},
   "source": [
    "### FILTERING"
   ]
  },
  {
   "cell_type": "code",
   "execution_count": null,
   "id": "a5e38334",
   "metadata": {},
   "outputs": [],
   "source": [
    "dict_df"
   ]
  },
  {
   "cell_type": "code",
   "execution_count": null,
   "id": "ff54cda4",
   "metadata": {},
   "outputs": [],
   "source": [
    "# filter mask. \n",
    "# This creates a seris of booleans we can pass to a dataframe df OR df.loc\n",
    "dict_df[\"last\"] == \"Doe\""
   ]
  },
  {
   "cell_type": "code",
   "execution_count": 29,
   "id": "526d286a",
   "metadata": {},
   "outputs": [],
   "source": [
    "filter_mask = (dict_df[\"last\"] == \"Doe\")"
   ]
  },
  {
   "cell_type": "code",
   "execution_count": null,
   "id": "659d787c",
   "metadata": {},
   "outputs": [],
   "source": [
    "#apply filter mask to dataframe to get back rows that match the filter\n",
    "dict_df[filter_mask]"
   ]
  },
  {
   "cell_type": "code",
   "execution_count": null,
   "id": "0403c72c",
   "metadata": {},
   "outputs": [],
   "source": [
    "# can also put the filter mask directly in the dataframe call.  This looks untidy\n",
    "dict_df[(dict_df[\"last\"]==\"Doe\")]"
   ]
  },
  {
   "cell_type": "code",
   "execution_count": null,
   "id": "0d217776",
   "metadata": {},
   "outputs": [],
   "source": [
    "# Filtering by .loc is also a way to achieve the same results.\n",
    "dict_df.loc[filter_mask]"
   ]
  },
  {
   "cell_type": "code",
   "execution_count": null,
   "id": "36ba181f",
   "metadata": {},
   "outputs": [],
   "source": [
    "# using .loc allows us to additionally select out the columns we need by passing a second argument as usual to .loc\n",
    "dict_df.loc[filter_mask, \"email\"]"
   ]
  },
  {
   "cell_type": "code",
   "execution_count": 36,
   "id": "27336b20",
   "metadata": {},
   "outputs": [],
   "source": [
    "# AND operator (&)\n",
    "filter_mask_2=((dict_df[\"last\"]==\"Doe\") & (dict_df[\"first\"] == \"John\"))"
   ]
  },
  {
   "cell_type": "code",
   "execution_count": null,
   "id": "8bb1d047",
   "metadata": {},
   "outputs": [],
   "source": [
    "dict_df.loc[filter_mask_2, \"email\"]"
   ]
  },
  {
   "cell_type": "code",
   "execution_count": 43,
   "id": "1210d212",
   "metadata": {},
   "outputs": [],
   "source": [
    "# OR operator (|)\n",
    "filter_mask_3 = ((dict_df[\"last\"] == \"Schafer\") | (dict_df[\"first\"] == \"John\"))"
   ]
  },
  {
   "cell_type": "code",
   "execution_count": null,
   "id": "259b4900",
   "metadata": {},
   "outputs": [],
   "source": [
    "dict_df[filter_mask_3]"
   ]
  },
  {
   "cell_type": "code",
   "execution_count": null,
   "id": "3fe60bb0",
   "metadata": {},
   "outputs": [],
   "source": [
    "#NOT operator (~)\n",
    "filter_mask_4 = ~((dict_df[\"last\"] == \"Schafer\") | (dict_df[\"first\"] == \"John\"))"
   ]
  },
  {
   "cell_type": "code",
   "execution_count": null,
   "id": "8abc67d5",
   "metadata": {},
   "outputs": [],
   "source": [
    "dict_df[filter_mask_4]"
   ]
  },
  {
   "cell_type": "code",
   "execution_count": null,
   "id": "9f4e35df",
   "metadata": {},
   "outputs": [],
   "source": [
    "# Do negation in dataframe call as an alternative\n",
    "filter_mask_5 = ((dict_df[\"last\"] == \"Schafer\") | (dict_df[\"first\"] == \"John\"))\n",
    "dict_df[~filter_mask_5]"
   ]
  },
  {
   "cell_type": "code",
   "execution_count": 54,
   "id": "7624e718",
   "metadata": {},
   "outputs": [],
   "source": [
    "high_salary = (indexed_df[\"ConvertedComp\"] > 70000)"
   ]
  },
  {
   "cell_type": "code",
   "execution_count": null,
   "id": "471e6947",
   "metadata": {},
   "outputs": [],
   "source": [
    "indexed_df.loc[high_salary, [\"Country\", \"LanguageWorkedWith\",\"ConvertedComp\"]]"
   ]
  },
  {
   "cell_type": "code",
   "execution_count": 59,
   "id": "eab2622b",
   "metadata": {},
   "outputs": [],
   "source": [
    "# We now want to filter down this list to a few selected countries\n",
    "countries = [\"United States\", \"India\", \"United Kingdom\", \"Germany\", \"Canada\"]\n",
    "filter_mask_6 = indexed_df[\"Country\"].isin(countries)"
   ]
  },
  {
   "cell_type": "code",
   "execution_count": null,
   "id": "c767e49f",
   "metadata": {},
   "outputs": [],
   "source": [
    "indexed_df.loc[filter_mask_6, \"Country\"]"
   ]
  },
  {
   "cell_type": "code",
   "execution_count": 71,
   "id": "b41ad924",
   "metadata": {},
   "outputs": [],
   "source": [
    "filter_mask_7 = indexed_df[\"LanguageWorkedWith\"].str.contains(\"Python\", na=False)"
   ]
  },
  {
   "cell_type": "code",
   "execution_count": null,
   "id": "161dddf7",
   "metadata": {},
   "outputs": [],
   "source": [
    "indexed_df.loc[filter_mask_7,\"LanguageWorkedWith\"]"
   ]
  },
  {
   "cell_type": "markdown",
   "id": "dcec84d3",
   "metadata": {},
   "source": [
    "### UPDATING ROWS AND COLUMNS"
   ]
  },
  {
   "cell_type": "code",
   "execution_count": null,
   "id": "c8071c69",
   "metadata": {},
   "outputs": [],
   "source": [
    "# rename column headings\n",
    "dict_df.columns=[\"first_name\", \"last_name\", \"email\"]\n",
    "dict_df.columns"
   ]
  },
  {
   "cell_type": "code",
   "execution_count": null,
   "id": "92268bcd",
   "metadata": {},
   "outputs": [],
   "source": [
    "dict_df"
   ]
  },
  {
   "cell_type": "code",
   "execution_count": null,
   "id": "6e390f8e",
   "metadata": {},
   "outputs": [],
   "source": [
    "# change all column names to uppercase using a list comprehension\n",
    "dict_df.columns = [x.lower() for x in dict_df.columns]\n",
    "\n",
    "dict_df"
   ]
  },
  {
   "cell_type": "code",
   "execution_count": null,
   "id": "444a8131",
   "metadata": {},
   "outputs": [],
   "source": [
    "# replace spaces with underscores in column name\n",
    "dict_df.columns = [x.replace(\" \", \"_\") for x in dict_df.columns]\n",
    "# OR\n",
    "dict_df.columns = dict_df.columns.str.replace(\" \", \"_\")\n",
    "dict_df"
   ]
  },
  {
   "cell_type": "code",
   "execution_count": null,
   "id": "64a309ad",
   "metadata": {},
   "outputs": [],
   "source": [
    "# change only some columns not all, using the rename method.\n",
    "# it takes a column parameter which is just a dict of the columns we want to affect\n",
    "# note this creates a new dataframe and the change made is not in place. So need to resave it to a variable\n",
    "dict_df = dict_df.rename(columns={\"first_name\":\"first\", \"last_name\":\"last\"})\n",
    "dict_df"
   ]
  },
  {
   "cell_type": "code",
   "execution_count": null,
   "id": "e6f5900c",
   "metadata": {},
   "outputs": [],
   "source": [
    "# changing values in the dataframe for entire row\n",
    "# select row\n",
    "# pass in all new values you want to change in that row\n",
    "dict_df.loc[2] = [\"John\", \"Smith\", \"JohnSmith@email.com\"]\n",
    "dict_df\n"
   ]
  },
  {
   "cell_type": "code",
   "execution_count": null,
   "id": "fa40bcae",
   "metadata": {},
   "outputs": [],
   "source": [
    "# changing values in the dataframe for specific columns in a row\n",
    "# select row\n",
    "# pass in all new values you want to change in that row\n",
    "dict_df.loc[2, [\"last\", \"email\"]] = [\"Doe\", \"JohnDoe@email.com\"]\n",
    "dict_df\n"
   ]
  },
  {
   "cell_type": "code",
   "execution_count": null,
   "id": "9ebb5103",
   "metadata": {},
   "outputs": [],
   "source": [
    "# change a single value\n",
    "# select row and col  and change the value in it\n",
    "dict_df.loc[2, \"last\"] = \"Smith\"\n",
    "dict_df"
   ]
  },
  {
   "cell_type": "code",
   "execution_count": null,
   "id": "dd54d231",
   "metadata": {},
   "outputs": [],
   "source": [
    "# ALWAYS use .loc when setting values or you can run into errors\n",
    "filter_mask_8 = (dict_df[\"email\"]==\"JohnDoe@email.com\")\n",
    "\n",
    "# .loc is use to apply the filter to the rows and the second arg selects the desired column\n",
    "dict_df.loc[filter_mask_8,\"last\"] = \"Smith\"\n",
    "\n",
    "dict_df"
   ]
  },
  {
   "cell_type": "code",
   "execution_count": null,
   "id": "91e61f3e",
   "metadata": {},
   "outputs": [],
   "source": [
    "# convert all emails to lowercase\n",
    "dict_df[\"email\"] = dict_df[\"email\"].str.lower()\n",
    "dict_df"
   ]
  },
  {
   "cell_type": "code",
   "execution_count": null,
   "id": "fb6c5110",
   "metadata": {},
   "outputs": [],
   "source": [
    "# 4 other methods to do updates\n",
    "# apply\n",
    "# map\n",
    "# replace"
   ]
  },
  {
   "cell_type": "code",
   "execution_count": null,
   "id": "b654c281",
   "metadata": {},
   "outputs": [],
   "source": [
    "# apply\n",
    "# works on a dataframe or series\n",
    "# behaviour is different depending on if it operates on a dataframe or a series"
   ]
  },
  {
   "cell_type": "code",
   "execution_count": null,
   "id": "150da8ff",
   "metadata": {},
   "outputs": [],
   "source": [
    "# apply on a series\n",
    "# apply a function to every value in our series\n",
    "\n",
    "# applies the len function to all values in our series\n",
    "dict_df[\"email\"].apply(len)"
   ]
  },
  {
   "cell_type": "code",
   "execution_count": null,
   "id": "3f30342a",
   "metadata": {},
   "outputs": [],
   "source": [
    "def update_email(email:str)->str:\n",
    "    return email.upper()\n",
    "\n",
    "dict_df[\"email\"] = dict_df[\"email\"].apply(update_email)\n",
    "\n",
    "dict_df"
   ]
  },
  {
   "cell_type": "code",
   "execution_count": null,
   "id": "da2c6c72",
   "metadata": {},
   "outputs": [],
   "source": [
    "# use a lambda function is also possible\n",
    "dict_df[\"email\"] = dict_df[\"email\"].apply(lambda x: x.lower())\n",
    "\n",
    "dict_df"
   ]
  },
  {
   "cell_type": "code",
   "execution_count": null,
   "id": "8f778689",
   "metadata": {},
   "outputs": [],
   "source": [
    "# apply on a dataframe\n",
    "# apply a function to every series of the data frame\n",
    "# therefore only use functions that can be used properly with series\n",
    "\n",
    "# applies the len function to the series in the dataframe\n",
    "# eg each series in dict_df is 3 units long\n",
    "# i.e the series contains 3 values\n",
    "dict_df.apply(len)"
   ]
  },
  {
   "cell_type": "code",
   "execution_count": null,
   "id": "c43d5dbd",
   "metadata": {},
   "outputs": [],
   "source": [
    "# Grab the minimum value from each column\n",
    "dict_df.apply(pd.Series.min)"
   ]
  },
  {
   "cell_type": "code",
   "execution_count": null,
   "id": "c29eb6ed",
   "metadata": {},
   "outputs": [],
   "source": [
    "# using a lamda\n",
    "dict_df.apply(lambda x: x.min())"
   ]
  },
  {
   "cell_type": "code",
   "execution_count": null,
   "id": "b570710d",
   "metadata": {},
   "outputs": [],
   "source": [
    "# map (dataframe)\n",
    "# it wokrs on dataframes and series\n",
    "# it will run the function on every value in the dataframe\n",
    "\n",
    "dict_df.map(len)"
   ]
  },
  {
   "cell_type": "code",
   "execution_count": null,
   "id": "73ecb2f0",
   "metadata": {},
   "outputs": [],
   "source": [
    "# map\n",
    "dict_df.map(str.lower)"
   ]
  },
  {
   "cell_type": "code",
   "execution_count": null,
   "id": "dd469a2a",
   "metadata": {},
   "outputs": [],
   "source": [
    "# map (series)\n",
    "dict_df[\"first\"].map(len)"
   ]
  },
  {
   "cell_type": "code",
   "execution_count": null,
   "id": "0519f9a6",
   "metadata": {},
   "outputs": [],
   "source": [
    "# be careful if a value in the series is not in your map then it will be converted to a NaN\n",
    "# use replace instead!!!!\n",
    "dict_df[\"first\"].map({\"Corey\": \"Chris\", \"Jane\":\"Mary\"})"
   ]
  },
  {
   "cell_type": "code",
   "execution_count": null,
   "id": "41e67e09",
   "metadata": {},
   "outputs": [],
   "source": [
    "dict_df[\"first\"].replace({\"Corey\": \"Chris\", \"Jane\":\"Mary\"})"
   ]
  },
  {
   "cell_type": "code",
   "execution_count": 121,
   "id": "22b06a85",
   "metadata": {},
   "outputs": [],
   "source": [
    "# praticing what we learned in Stackoverflow data\n",
    "\n",
    "indexed_df= indexed_df.rename(columns={\"ConvertedComp\":\"SalaryUSD\"})"
   ]
  },
  {
   "cell_type": "code",
   "execution_count": null,
   "id": "08b01024",
   "metadata": {},
   "outputs": [],
   "source": [
    "indexed_df[\"SalaryUSD\"]"
   ]
  },
  {
   "cell_type": "code",
   "execution_count": null,
   "id": "628d4d0d",
   "metadata": {},
   "outputs": [],
   "source": [
    "indexed_df[\"Hobbyist\"]"
   ]
  },
  {
   "cell_type": "code",
   "execution_count": null,
   "id": "34d45129",
   "metadata": {},
   "outputs": [],
   "source": [
    "indexed_df[\"Hobbyist\"].map({\"Yes\":True, \"No\":False})"
   ]
  }
 ],
 "metadata": {
  "kernelspec": {
   "display_name": ".venv",
   "language": "python",
   "name": "python3"
  },
  "language_info": {
   "codemirror_mode": {
    "name": "ipython",
    "version": 3
   },
   "file_extension": ".py",
   "mimetype": "text/x-python",
   "name": "python",
   "nbconvert_exporter": "python",
   "pygments_lexer": "ipython3",
   "version": "3.10.12"
  }
 },
 "nbformat": 4,
 "nbformat_minor": 5
}
